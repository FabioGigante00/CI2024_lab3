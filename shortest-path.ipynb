{
 "cells": [
  {
   "cell_type": "markdown",
   "metadata": {
    "vscode": {
     "languageId": "plaintext"
    }
   },
   "source": [
    "Copyright **`(c)`** 2024 Giovanni Squillero `<giovanni.squillero@polito.it>`  \n",
    "[`https://github.com/squillero/computational-intelligence`](https://github.com/squillero/computational-intelligence)  \n",
    "Free under certain conditions — see the [`license`](https://github.com/squillero/computational-intelligence/blob/master/LICENSE.md) for details.  "
   ]
  },
  {
   "cell_type": "code",
   "execution_count": null,
   "metadata": {},
   "outputs": [],
   "source": [
    "import logging\n",
    "from itertools import combinations\n",
    "import pandas as pd\n",
    "import numpy as np\n",
    "from geopy.distance import geodesic\n",
    "import networkx as nx\n",
    "\n",
    "from icecream import ic\n",
    "\n",
    "logging.basicConfig(level=logging.DEBUG)"
   ]
  },
  {
   "cell_type": "code",
   "execution_count": 280,
   "metadata": {},
   "outputs": [
    {
     "data": {
      "text/html": [
       "<div>\n",
       "<style scoped>\n",
       "    .dataframe tbody tr th:only-of-type {\n",
       "        vertical-align: middle;\n",
       "    }\n",
       "\n",
       "    .dataframe tbody tr th {\n",
       "        vertical-align: top;\n",
       "    }\n",
       "\n",
       "    .dataframe thead th {\n",
       "        text-align: right;\n",
       "    }\n",
       "</style>\n",
       "<table border=\"1\" class=\"dataframe\">\n",
       "  <thead>\n",
       "    <tr style=\"text-align: right;\">\n",
       "      <th></th>\n",
       "      <th>name</th>\n",
       "      <th>lat</th>\n",
       "      <th>lon</th>\n",
       "    </tr>\n",
       "  </thead>\n",
       "  <tbody>\n",
       "    <tr>\n",
       "      <th>0</th>\n",
       "      <td>Abilene</td>\n",
       "      <td>32.454514</td>\n",
       "      <td>-99.738147</td>\n",
       "    </tr>\n",
       "    <tr>\n",
       "      <th>1</th>\n",
       "      <td>Akron</td>\n",
       "      <td>41.080456</td>\n",
       "      <td>-81.521429</td>\n",
       "    </tr>\n",
       "    <tr>\n",
       "      <th>2</th>\n",
       "      <td>Albuquerque</td>\n",
       "      <td>35.105552</td>\n",
       "      <td>-106.647388</td>\n",
       "    </tr>\n",
       "    <tr>\n",
       "      <th>3</th>\n",
       "      <td>Alexandria</td>\n",
       "      <td>38.818343</td>\n",
       "      <td>-77.082026</td>\n",
       "    </tr>\n",
       "    <tr>\n",
       "      <th>4</th>\n",
       "      <td>Allen</td>\n",
       "      <td>33.107224</td>\n",
       "      <td>-96.674676</td>\n",
       "    </tr>\n",
       "  </tbody>\n",
       "</table>\n",
       "</div>"
      ],
      "text/plain": [
       "          name        lat         lon\n",
       "0      Abilene  32.454514  -99.738147\n",
       "1        Akron  41.080456  -81.521429\n",
       "2  Albuquerque  35.105552 -106.647388\n",
       "3   Alexandria  38.818343  -77.082026\n",
       "4        Allen  33.107224  -96.674676"
      ]
     },
     "execution_count": 280,
     "metadata": {},
     "output_type": "execute_result"
    }
   ],
   "source": [
    "CITIES = pd.read_csv('../CI2024_LAB2/cities/us.csv', header=None, names=['name', 'lat', 'lon'])\n",
    "DIST_MATRIX = np.zeros((len(CITIES), len(CITIES)))\n",
    "for c1, c2 in combinations(CITIES.itertuples(), 2):\n",
    "    DIST_MATRIX[c1.Index, c2.Index] = DIST_MATRIX[c2.Index, c1.Index] = geodesic(\n",
    "        (c1.lat, c1.lon), (c2.lat, c2.lon)\n",
    "    ).km\n",
    "CITIES.head()"
   ]
  },
  {
   "cell_type": "markdown",
   "metadata": {},
   "source": [
    "## Lab3"
   ]
  },
  {
   "cell_type": "code",
   "execution_count": 281,
   "metadata": {},
   "outputs": [
    {
     "data": {
      "text/plain": [
       "False"
      ]
     },
     "execution_count": 281,
     "metadata": {},
     "output_type": "execute_result"
    }
   ],
   "source": [
    "median = np.median(DIST_MATRIX.reshape(1, -1))\n",
    "\n",
    "DIST_MATRIX[DIST_MATRIX > median] = np.inf\n",
    "G = nx.Graph()\n",
    "for c1, c2 in combinations(CITIES.itertuples(), 2):\n",
    "    G.add_node(c1.Index)\n",
    "    G.add_node(c2.Index)\n",
    "    if DIST_MATRIX[c1.Index, c2.Index] <= median:\n",
    "        G.add_edge(c1.Index, c2.Index, weight=DIST_MATRIX[c1.Index, c2.Index])\n",
    "nx.is_connected(G)"
   ]
  },
  {
   "cell_type": "markdown",
   "metadata": {},
   "source": [
    "## Greedy Approach"
   ]
  },
  {
   "cell_type": "code",
   "execution_count": 285,
   "metadata": {},
   "outputs": [],
   "source": [
    "def greedy_backtrack(graph: nx.Graph, current, end, visited, path, current_cost, finished):\n",
    "        # Add current node to path and mark as visited\n",
    "        path.append(current)\n",
    "        visited.add(current)\n",
    "\n",
    "        # If we reached the end node, this is the chosen path\n",
    "        if current == end:\n",
    "            return True, path, current_cost\n",
    "        else:\n",
    "            # Explore neighbors using a greedy strategy, smaller geodesic distance from end\n",
    "            neighbors = G[current]\n",
    "            neighbors = sorted(neighbors, key=lambda x: geodesic((CITIES.loc[x].lat, CITIES.loc[x].lon), (CITIES.loc[end].lat, CITIES.loc[end].lon)).km)\n",
    "            neighbors_with_weights = [(neighbor, G[current][neighbor]['weight']) for neighbor in neighbors if neighbor not in visited]\n",
    "            for neighbor, weight in neighbors_with_weights:\n",
    "                \n",
    "                current_cost += weight\n",
    "                finished = greedy_backtrack(graph, neighbor, end, visited, path, current_cost + weight, finished)\n",
    "                if finished:\n",
    "                    return True, path, current_cost\n",
    "        # Backtrack: unmark the node and remove it from the path\n",
    "        visited.remove(current)\n",
    "        path.pop()\n",
    "        return False"
   ]
  },
  {
   "cell_type": "code",
   "execution_count": 286,
   "metadata": {},
   "outputs": [],
   "source": [
    "def shortest_path(graph, start, end):\n",
    "        best_path = []\n",
    "        visited = set()\n",
    "        _, best_path, best_cost = greedy_backtrack(graph, start, end, visited, [], 0, False)\n",
    "        return best_path, best_cost"
   ]
  },
  {
   "cell_type": "code",
   "execution_count": 302,
   "metadata": {},
   "outputs": [
    {
     "name": "stderr",
     "output_type": "stream",
     "text": [
      "INFO:root:Start node: 133, Destination node: 172\n",
      "INFO:root:Path: [133, 172], Cost: 1376.3380693015297\n"
     ]
    }
   ],
   "source": [
    "#Try Greedy Backtrack\n",
    "#randomly select a node\n",
    "start_node = np.random.choice(list(G.nodes))\n",
    "\n",
    "#destination node\n",
    "destination_node = np.random.choice(list(G.nodes))\n",
    "while destination_node == start_node:\n",
    "    destination_node = np.random.choice(list(G.nodes))\n",
    "\n",
    "logging.info(f\"Start node: {start_node}, Destination node: {destination_node}\")\n",
    "path, cost = shortest_path(G, int(start_node), destination_node)\n",
    "logging.info(f\"Path: {path}, Cost: {cost}\")"
   ]
  }
 ],
 "metadata": {
  "kernelspec": {
   "display_name": "ci-QFw0xGYb-py3.12",
   "language": "python",
   "name": "python3"
  },
  "language_info": {
   "codemirror_mode": {
    "name": "ipython",
    "version": 3
   },
   "file_extension": ".py",
   "mimetype": "text/x-python",
   "name": "python",
   "nbconvert_exporter": "python",
   "pygments_lexer": "ipython3",
   "version": "3.12.2"
  }
 },
 "nbformat": 4,
 "nbformat_minor": 2
}
