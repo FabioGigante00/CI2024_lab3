{
 "cells": [
  {
   "cell_type": "markdown",
   "metadata": {
    "vscode": {
     "languageId": "plaintext"
    }
   },
   "source": [
    "Copyright **`(c)`** 2024 Giovanni Squillero `<giovanni.squillero@polito.it>`  \n",
    "[`https://github.com/squillero/computational-intelligence`](https://github.com/squillero/computational-intelligence)  \n",
    "Free under certain conditions — see the [`license`](https://github.com/squillero/computational-intelligence/blob/master/LICENSE.md) for details.  "
   ]
  },
  {
   "cell_type": "code",
   "execution_count": 305,
   "metadata": {},
   "outputs": [],
   "source": [
    "from collections import namedtuple\n",
    "from random import choice\n",
    "from tqdm.auto import tqdm\n",
    "import numpy as np"
   ]
  },
  {
   "cell_type": "code",
   "execution_count": 306,
   "metadata": {},
   "outputs": [],
   "source": [
    "PUZZLE_DIM = 4\n",
    "action = namedtuple('Action', ['pos1', 'pos2'])"
   ]
  },
  {
   "cell_type": "code",
   "execution_count": 307,
   "metadata": {},
   "outputs": [],
   "source": [
    "def available_actions(state: np.ndarray) -> list[action]:\n",
    "    x, y = [int(_[0]) for _ in np.where(state == 0)]\n",
    "    actions = list()\n",
    "    if x > 0:\n",
    "        actions.append(action((x, y), (x - 1, y)))\n",
    "    if x < PUZZLE_DIM - 1:\n",
    "        actions.append(action((x, y), (x + 1, y)))\n",
    "    if y > 0:\n",
    "        actions.append(action((x, y), (x, y - 1)))\n",
    "    if y < PUZZLE_DIM - 1:\n",
    "        actions.append(action((x, y), (x, y + 1)))\n",
    "    return actions\n",
    "\n",
    "\n",
    "\n",
    "def do_action(state: np.ndarray, action: 'Action') -> np.ndarray:\n",
    "    new_state = state.copy()\n",
    "    new_state[action.pos1], new_state[action.pos2] = new_state[action.pos2], new_state[action.pos1]\n",
    "    return new_state"
   ]
  },
  {
   "cell_type": "code",
   "execution_count": 308,
   "metadata": {},
   "outputs": [],
   "source": [
    "\n",
    "import numpy as np\n",
    "from collections import namedtuple\n",
    "from heapq import heappop, heappush\n",
    "from random import choice\n",
    "from tqdm import tqdm"
   ]
  },
  {
   "cell_type": "markdown",
   "metadata": {},
   "source": [
    "Various heuristics\n"
   ]
  },
  {
   "cell_type": "code",
   "execution_count": 309,
   "metadata": {},
   "outputs": [],
   "source": [
    "# Manhattan distance heuristic\n",
    "def manhattan(state: np.ndarray, goal: np.ndarray) -> int:\n",
    "    distance = 0\n",
    "    for i in range(PUZZLE_DIM):\n",
    "        for j in range(PUZZLE_DIM):\n",
    "            value = state[i, j]\n",
    "            if value != 0:\n",
    "                distances = np.where(goal == value)\n",
    "                distance += abs(i - distances[0][0]) + abs(j - distances[1][0])\n",
    "    return distance\n",
    "\n",
    "def hamming(state: np.ndarray, goal: np.ndarray) -> int:\n",
    "    return np.sum(state != goal) - 1  # Exclude the empty tile\n",
    "\n",
    "import numpy as np\n",
    "\n",
    "def linear_conflict_manhattan(state: np.ndarray, goal: np.ndarray) -> int:\n",
    "    def linear_conflict(state, goal):\n",
    "        \"\"\"Compute linear conflicts.\"\"\"\n",
    "        conflict_count = 0\n",
    "        # Check rows\n",
    "        for row in range(PUZZLE_DIM):\n",
    "            tiles_in_row = [state[row, col] for col in range(PUZZLE_DIM) if state[row, col] != 0]\n",
    "            goal_positions = {}\n",
    "            for tile in tiles_in_row:\n",
    "                distances = np.where(goal == tile)\n",
    "                goal_positions[tile] = distances[0][0], distances[1][0]\n",
    "            for i, tile1 in enumerate(tiles_in_row):\n",
    "                for tile2 in tiles_in_row[i + 1:]:\n",
    "                    if goal_positions[tile1] > goal_positions[tile2]:\n",
    "                        conflict_count += 1\n",
    "        # Check columns\n",
    "        for col in range(PUZZLE_DIM):\n",
    "            tiles_in_col = [state[row, col] for row in range(PUZZLE_DIM) if state[row, col] != 0]\n",
    "            goal_positions = {}\n",
    "            for tile in tiles_in_col:\n",
    "                distances = np.where(goal == tile)\n",
    "                goal_positions[tile] = distances[0][0], distances[1][0]\n",
    "            for i, tile1 in enumerate(tiles_in_col):\n",
    "                for tile2 in tiles_in_col[i + 1:]:\n",
    "                    if goal_positions[tile1] > goal_positions[tile2]:\n",
    "                        conflict_count += 1\n",
    "        return 2 * conflict_count  # Each conflict adds 2 moves\n",
    "\n",
    "    # Combine Manhattan distance and linear conflict\n",
    "    return manhattan(state, goal) + linear_conflict(state, goal)\n"
   ]
  },
  {
   "cell_type": "markdown",
   "metadata": {},
   "source": [
    "Algos"
   ]
  },
  {
   "cell_type": "code",
   "execution_count": 310,
   "metadata": {},
   "outputs": [],
   "source": [
    "# A*  or Dijkstra's search\n",
    "\n",
    "def search_astar(initial_state: np.ndarray, goal_state: np.ndarray, heuristic, use_heuristic: bool = True):\n",
    "    \"\"\"\n",
    "    Unified search algorithm for A* and Dijkstra's based on the use_heuristic flag.\n",
    "    \n",
    "    Args:\n",
    "        initial_state (np.ndarray): Initial puzzle state.\n",
    "        goal_state (np.ndarray): Goal puzzle state.\n",
    "        use_heuristic (bool): If True, uses A*; if False, uses Dijkstra's algorithm.\n",
    "    \n",
    "    Returns:\n",
    "        list: Sequence of actions leading to the goal state, or an error message if unsolvable.\n",
    "    \"\"\"\n",
    "\n",
    "    visited = set()\n",
    "    priority_queue = []\n",
    "    heappush(priority_queue, (0, 0, initial_state.tobytes(), []))  # (priority, cost, state, path)\n",
    "    steps = 0\n",
    "\n",
    "    while priority_queue:\n",
    "        _, cost, current_state_bytes, path = heappop(priority_queue)\n",
    "        current_state = np.frombuffer(current_state_bytes, dtype=initial_state.dtype).reshape(initial_state.shape)\n",
    "\n",
    "        if np.array_equal(current_state, goal_state):\n",
    "            #print cost and steps\n",
    "            print(f\"Steps: {steps}, Cost: {cost}\")\n",
    "            return path\n",
    "\n",
    "        visited.add(current_state_bytes)\n",
    "\n",
    "        for act in available_actions(current_state):\n",
    "            new_state = do_action(current_state, act)\n",
    "            new_state_bytes = new_state.tobytes()\n",
    "            if new_state_bytes not in visited:\n",
    "                new_cost = cost + 1\n",
    "                # Priority is cost + heuristic for A*, or just cost for Dijkstra's\n",
    "                priority = new_cost + (heuristic(new_state, goal_state) if use_heuristic else 0)\n",
    "                heappush(priority_queue, (priority, new_cost, new_state_bytes, path + [act]))\n",
    "\n",
    "        steps += 1\n",
    "        if steps % 100_000 == 0:\n",
    "            print(f\"Steps: {steps}, Cost: {cost}\")\n",
    "        if steps > 1_000_000:\n",
    "            #Print solution and return\n",
    "            print(\"Final state: \\n\", current_state)\n",
    "            print(f\"Steps: {steps}, Cost: {cost}\")\n",
    "            return path\n",
    "\n",
    "    return \"No solution found.\"\n"
   ]
  },
  {
   "cell_type": "markdown",
   "metadata": {},
   "source": [
    "## Create solvable puzzle\n"
   ]
  },
  {
   "cell_type": "code",
   "execution_count": 311,
   "metadata": {},
   "outputs": [
    {
     "name": "stderr",
     "output_type": "stream",
     "text": [
      "Randomizing: 100%|██████████| 100000/100000 [00:01<00:00, 52217.14it/s]"
     ]
    },
    {
     "name": "stdout",
     "output_type": "stream",
     "text": [
      "Solvable puzzle generated.\n"
     ]
    },
    {
     "name": "stderr",
     "output_type": "stream",
     "text": [
      "\n"
     ]
    }
   ],
   "source": [
    "goal_state = np.array([i for i in range(1, PUZZLE_DIM**2)] + [0]).reshape((PUZZLE_DIM, PUZZLE_DIM))\n",
    "RANDOMIZE_STEPS = 100_000\n",
    "state = goal_state.copy()\n",
    "for r in tqdm(range(RANDOMIZE_STEPS), desc='Randomizing'):\n",
    "    state = do_action(state, choice(available_actions(state)))\n",
    "\n",
    "\n",
    "print(\"Solvable puzzle generated.\")\n"
   ]
  },
  {
   "cell_type": "code",
   "execution_count": 312,
   "metadata": {},
   "outputs": [
    {
     "name": "stdout",
     "output_type": "stream",
     "text": [
      "Initial state:\n",
      "[[10  1 13  6]\n",
      " [ 8 15  4 12]\n",
      " [ 0  9  2  5]\n",
      " [ 3 14 11  7]]\n",
      "Steps: 13298, Cost: 64\n",
      "Checking solution...\n",
      "\n",
      "Solution steps:\n",
      "(2, 0) -> (2, 1)\n",
      "(2, 1) -> (2, 2)\n",
      "(2, 2) -> (2, 3)\n",
      "(2, 3) -> (1, 3)\n",
      "(1, 3) -> (1, 2)\n",
      "(1, 2) -> (1, 1)\n",
      "(1, 1) -> (1, 0)\n",
      "(1, 0) -> (0, 0)\n",
      "(0, 0) -> (0, 1)\n",
      "(0, 1) -> (1, 1)\n",
      "(1, 1) -> (2, 1)\n",
      "(2, 1) -> (2, 2)\n",
      "(2, 2) -> (1, 2)\n",
      "(1, 2) -> (0, 2)\n",
      "(0, 2) -> (0, 1)\n",
      "(0, 1) -> (1, 1)\n",
      "(1, 1) -> (2, 1)\n",
      "(2, 1) -> (2, 0)\n",
      "(2, 0) -> (3, 0)\n",
      "(3, 0) -> (3, 1)\n",
      "(3, 1) -> (3, 2)\n",
      "(3, 2) -> (2, 2)\n",
      "(2, 2) -> (1, 2)\n",
      "(1, 2) -> (0, 2)\n",
      "(0, 2) -> (0, 3)\n",
      "(0, 3) -> (1, 3)\n",
      "(1, 3) -> (2, 3)\n",
      "(2, 3) -> (3, 3)\n",
      "(3, 3) -> (3, 2)\n",
      "(3, 2) -> (2, 2)\n",
      "(2, 2) -> (2, 3)\n",
      "(2, 3) -> (1, 3)\n",
      "(1, 3) -> (1, 2)\n",
      "(1, 2) -> (1, 1)\n",
      "(1, 1) -> (1, 0)\n",
      "(1, 0) -> (2, 0)\n",
      "(2, 0) -> (2, 1)\n",
      "(2, 1) -> (1, 1)\n",
      "(1, 1) -> (1, 0)\n",
      "(1, 0) -> (0, 0)\n",
      "(0, 0) -> (0, 1)\n",
      "(0, 1) -> (1, 1)\n",
      "(1, 1) -> (1, 2)\n",
      "(1, 2) -> (0, 2)\n",
      "(0, 2) -> (0, 1)\n",
      "(0, 1) -> (0, 0)\n",
      "(0, 0) -> (1, 0)\n",
      "(1, 0) -> (1, 1)\n",
      "(1, 1) -> (1, 2)\n",
      "(1, 2) -> (2, 2)\n",
      "(2, 2) -> (3, 2)\n",
      "(3, 2) -> (3, 1)\n",
      "(3, 1) -> (3, 0)\n",
      "(3, 0) -> (2, 0)\n",
      "(2, 0) -> (2, 1)\n",
      "(2, 1) -> (2, 2)\n",
      "(2, 2) -> (3, 2)\n",
      "(3, 2) -> (3, 1)\n",
      "(3, 1) -> (2, 1)\n",
      "(2, 1) -> (2, 0)\n",
      "(2, 0) -> (3, 0)\n",
      "(3, 0) -> (3, 1)\n",
      "(3, 1) -> (3, 2)\n",
      "(3, 2) -> (3, 3)\n"
     ]
    }
   ],
   "source": [
    "# Which algorithm to run?\n",
    "RUN = 'A*'\n",
    "#RUN = 'Dijkstra'  \n",
    "# Solve the puzzle\n",
    "switch = {\n",
    "    'A*': search_astar,\n",
    "    'Dijkstra': search_astar\n",
    "}\n",
    "use_heuristic = True\n",
    "if RUN == 'Dijkstra':\n",
    "    use_heuristic = False\n",
    "\n",
    "HEURISTIC = 'linear_conflict_manhattan'  # 'manhattan', 'hamming', 'linear_conflict_manhattan'\n",
    "switch_heuristic = {\n",
    "    'manhattan': manhattan,\n",
    "    'hamming': hamming,\n",
    "    'linear_conflict_manhattan': linear_conflict_manhattan\n",
    "}\n",
    "heuristic = switch_heuristic[HEURISTIC]\n",
    "\n",
    "# Test1 for state 2 8 7 3 6 5 0 1 4\n",
    "#state = np.array([[2, 8, 7], [3, 6, 5], [0, 1, 4]])\n",
    "# Test2 for state 8 6 0 1 7 2 4 5 3\n",
    "#state = np.array([[8, 6, 0], [1, 7, 2], [4, 5, 3]])\n",
    "\n",
    "#4x4 puzzle\n",
    "# Test1 for state 10 1 13 6 8 15 4 12 0 9 2 5 3 14 11 7\n",
    "state = np.array([[10, 1, 13, 6], [8, 15, 4, 12], [0, 9, 2, 5], [3, 14, 11, 7]])\n",
    "# Test2 for state 11 6 14 13 4 3 15 2 9 10 0 5 8 1 7 12\n",
    "#state = np.array([[11, 6, 14, 13], [4, 3, 15, 2], [9, 10, 0, 5], [8, 1, 7, 12]])\n",
    "# Very long test\n",
    "\n",
    "# Test3 for state 8 2 0 14 10 13 11 1 9 12 15 7 6 5 4 3\n",
    "#state = np.array([[8, 2, 0, 14], [10, 13, 11, 1], [9, 12, 15, 7], [6, 5, 4, 3]])\n",
    "\n",
    "\n",
    "print(\"Initial state:\")\n",
    "print(state)\n",
    "\n",
    "\n",
    "solve_puzzle = switch[RUN]\n",
    "solution = solve_puzzle(state, goal_state, heuristic, use_heuristic)\n",
    "\n",
    "print(\"Checking solution...\")\n",
    "# Check if the solution is valid\n",
    "if isinstance(solution, list):\n",
    "    state = state.copy()\n",
    "    for act in solution:\n",
    "        state = do_action(state, act)\n",
    "    if not np.array_equal(state, goal_state):\n",
    "        solution = \"Invalid solution.\"\n",
    "\n",
    "print(\"\\nSolution steps:\")\n",
    "if isinstance(solution, list):\n",
    "    for act in solution:\n",
    "        print(act.pos1, '->', act.pos2)\n",
    "else:\n",
    "    print(solution)"
   ]
  },
  {
   "cell_type": "code",
   "execution_count": null,
   "metadata": {},
   "outputs": [],
   "source": []
  }
 ],
 "metadata": {
  "kernelspec": {
   "display_name": "ci-QFw0xGYb-py3.12",
   "language": "python",
   "name": "python3"
  },
  "language_info": {
   "codemirror_mode": {
    "name": "ipython",
    "version": 3
   },
   "file_extension": ".py",
   "mimetype": "text/x-python",
   "name": "python",
   "nbconvert_exporter": "python",
   "pygments_lexer": "ipython3",
   "version": "3.12.2"
  }
 },
 "nbformat": 4,
 "nbformat_minor": 2
}
